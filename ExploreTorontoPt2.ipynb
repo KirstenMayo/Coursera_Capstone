{
 "cells": [
  {
   "cell_type": "markdown",
   "metadata": {},
   "source": [
    "## Explore Toronto"
   ]
  },
  {
   "cell_type": "markdown",
   "metadata": {},
   "source": [
    "### Part 1"
   ]
  },
  {
   "cell_type": "code",
   "execution_count": 2,
   "metadata": {},
   "outputs": [],
   "source": [
    "from bs4 import BeautifulSoup\n",
    "import requests\n",
    "import pandas as pd"
   ]
  },
  {
   "cell_type": "code",
   "execution_count": 3,
   "metadata": {},
   "outputs": [
    {
     "data": {
      "text/html": [
       "<div>\n",
       "<style scoped>\n",
       "    .dataframe tbody tr th:only-of-type {\n",
       "        vertical-align: middle;\n",
       "    }\n",
       "\n",
       "    .dataframe tbody tr th {\n",
       "        vertical-align: top;\n",
       "    }\n",
       "\n",
       "    .dataframe thead th {\n",
       "        text-align: right;\n",
       "    }\n",
       "</style>\n",
       "<table border=\"1\" class=\"dataframe\">\n",
       "  <thead>\n",
       "    <tr style=\"text-align: right;\">\n",
       "      <th></th>\n",
       "      <th>PostalCode</th>\n",
       "      <th>Borough</th>\n",
       "      <th>Neighborhood</th>\n",
       "    </tr>\n",
       "  </thead>\n",
       "  <tbody>\n",
       "    <tr>\n",
       "      <th>0</th>\n",
       "      <td>M1B</td>\n",
       "      <td>Scarborough</td>\n",
       "      <td>Rouge, Malvern</td>\n",
       "    </tr>\n",
       "    <tr>\n",
       "      <th>1</th>\n",
       "      <td>M1C</td>\n",
       "      <td>Scarborough</td>\n",
       "      <td>Highland Creek, Rouge Hill, Port Union</td>\n",
       "    </tr>\n",
       "    <tr>\n",
       "      <th>2</th>\n",
       "      <td>M1E</td>\n",
       "      <td>Scarborough</td>\n",
       "      <td>Guildwood, Morningside, West Hill</td>\n",
       "    </tr>\n",
       "    <tr>\n",
       "      <th>3</th>\n",
       "      <td>M1G</td>\n",
       "      <td>Scarborough</td>\n",
       "      <td>Woburn</td>\n",
       "    </tr>\n",
       "    <tr>\n",
       "      <th>4</th>\n",
       "      <td>M1H</td>\n",
       "      <td>Scarborough</td>\n",
       "      <td>Cedarbrae</td>\n",
       "    </tr>\n",
       "  </tbody>\n",
       "</table>\n",
       "</div>"
      ],
      "text/plain": [
       "  PostalCode      Borough                            Neighborhood\n",
       "0        M1B  Scarborough                          Rouge, Malvern\n",
       "1        M1C  Scarborough  Highland Creek, Rouge Hill, Port Union\n",
       "2        M1E  Scarborough       Guildwood, Morningside, West Hill\n",
       "3        M1G  Scarborough                                  Woburn\n",
       "4        M1H  Scarborough                               Cedarbrae"
      ]
     },
     "execution_count": 3,
     "metadata": {},
     "output_type": "execute_result"
    }
   ],
   "source": [
    "# Scrape the website for the table and assign the rows from the table\n",
    "url = 'https://en.wikipedia.org/wiki/List_of_postal_codes_of_Canada:_M'\n",
    "html_doc = requests.get(url).text\n",
    "soup = BeautifulSoup(html_doc, 'html.parser')\n",
    "html_table = soup.find('table')\n",
    "table_rows = html_table.find_all('tr')\n",
    "\n",
    "# Add the rows into a dataframe\n",
    "l = []\n",
    "for tr in table_rows:  \n",
    "    td = tr.find_all('td')\n",
    "    row = [tr.text for tr in td]\n",
    "    l.append(row)\n",
    "toronto = pd.DataFrame(l, columns=[\"PostalCode\", \"Borough\",\"Neighborhood\"])\n",
    "\n",
    "# Remove unwanted rows and characters\n",
    "toronto = toronto[toronto.Borough != 'Not assigned']\n",
    "toronto.drop([0], axis=0, inplace=True)\n",
    "toronto['Neighborhood'] = toronto['Neighborhood'].str.rstrip('\\n')\n",
    "\n",
    "# Group rows by postal code and aggregate the neighborhoods\n",
    "toronto = toronto.groupby(['PostalCode', 'Borough']).agg([('neighborhood', ', '.join)])\n",
    "toronto.reset_index(inplace=True)\n",
    "toronto.columns = ['PostalCode', 'Borough', 'Neighborhood']\n",
    "\n",
    "# Rename neighborhoods that are \"not assigned\" with the name of the borough\n",
    "import numpy as np\n",
    "toronto['Neighborhood'] = np.where(toronto['Neighborhood'] == 'Not assigned', toronto['Borough'], toronto['Neighborhood'])\n",
    "toronto.loc[85]\n",
    "\n",
    "# Have a look at the resulting dataframe\n",
    "toronto.head()"
   ]
  },
  {
   "cell_type": "markdown",
   "metadata": {},
   "source": [
    "### Part 2"
   ]
  },
  {
   "cell_type": "markdown",
   "metadata": {},
   "source": [
    "**Load coordinates data into a dataframe**"
   ]
  },
  {
   "cell_type": "code",
   "execution_count": 4,
   "metadata": {
    "scrolled": true
   },
   "outputs": [
    {
     "name": "stdout",
     "output_type": "stream",
     "text": [
      "--2019-05-07 07:10:35--  http://cocl.us/Geospatial_data\n",
      "Resolving cocl.us (cocl.us)... 169.48.113.201\n",
      "Connecting to cocl.us (cocl.us)|169.48.113.201|:80... connected.\n",
      "HTTP request sent, awaiting response... 301 Moved Permanently\n",
      "Location: https://cocl.us/Geospatial_data [following]\n",
      "--2019-05-07 07:10:35--  https://cocl.us/Geospatial_data\n",
      "Connecting to cocl.us (cocl.us)|169.48.113.201|:443... connected.\n",
      "HTTP request sent, awaiting response... 301 Moved Permanently\n",
      "Location: https://ibm.box.com/shared/static/9afzr83pps4pwf2smjjcf1y5mvgb18rr.csv [following]\n",
      "--2019-05-07 07:10:36--  https://ibm.box.com/shared/static/9afzr83pps4pwf2smjjcf1y5mvgb18rr.csv\n",
      "Resolving ibm.box.com (ibm.box.com)... 107.152.26.197\n",
      "Connecting to ibm.box.com (ibm.box.com)|107.152.26.197|:443... connected.\n",
      "HTTP request sent, awaiting response... 301 Moved Permanently\n",
      "Location: /public/static/9afzr83pps4pwf2smjjcf1y5mvgb18rr.csv [following]\n",
      "--2019-05-07 07:10:36--  https://ibm.box.com/public/static/9afzr83pps4pwf2smjjcf1y5mvgb18rr.csv\n",
      "Reusing existing connection to ibm.box.com:443.\n",
      "HTTP request sent, awaiting response... 301 Moved Permanently\n",
      "Location: https://ibm.ent.box.com/public/static/9afzr83pps4pwf2smjjcf1y5mvgb18rr.csv [following]\n",
      "--2019-05-07 07:10:36--  https://ibm.ent.box.com/public/static/9afzr83pps4pwf2smjjcf1y5mvgb18rr.csv\n",
      "Resolving ibm.ent.box.com (ibm.ent.box.com)... 107.152.26.211\n",
      "Connecting to ibm.ent.box.com (ibm.ent.box.com)|107.152.26.211|:443... connected.\n",
      "HTTP request sent, awaiting response... 302 Found\n",
      "Location: https://public.boxcloud.com/d/1/b1!HZ5bYWza3MNlCs6r9_ARWr3GJfJGI8xKjyCB2J3BWAmbJJay34ceYFPGllBZkb5TGe8hY2siZx84srZIKJmoVXEtNKFcNxDxG1DKtUmjohbv9N8X33wX319AEHsUmj03nmxjrrUx4DDb-afxRBYA5co0Re_ScF6nZ35rtI2isiAEsAU6NbBZgR8dODi3cZBQMRvzuscL81rrml6jk2FF1fgg80b7PqPUtxOCE_5r88OXRfkocuWV6IHnsbmbVwFcLLIJ-_y0YiazwK7AcuNtA_vpBXYWEd_RambeDy5G7Q76DsCD_4jdWX9AwOwQaZumvufe8gViiKSqKtFB6nPtO4sxgEnTG1-rRdGXx7AJdYPNxv9C0YDjyV89u7tjx56nq5HNk2tDQ7-V41HpbFSb3OMSbohpg9Y3Ghf80ZaDZe_7ZMZcq4RamOdi7XeUcuwiEzCT1xUmR4LhZg92902WS991X9CocXZDksb-zl7ScAF78x6G5Od0ekF-EE7wBSybvE-hFwafXw_qeJLu3bwy0y_3ScduuSSHNz5sO2ZL9GCea6vpBfPgRUB95E8tWyOuWT69jsHniWpArKMCOpQ8MjYuEL9V5-MvXKssCRBMeWcZgokBoyriV_zBwRSxE9O4p1OcjRUZ2OU8csXHcZOHcdW8ZjZtaLHVrsmnGDRUsmbO1divOFG3rsi4ajeKUzNJbt1LErAQqJCdgIazKKMJHOy-iLPsH8r1Tp0LWL3y-1oFmU0RuJCnsTNp9fnuj4vG7eVBW55BkFBfAgR7IVExjHZaIuUoRu_-O7XcfT9wUN7BF3YSC8K1URSMQaZGYp3gArJAkw_LCriMxsmSNUk4XkiqMTb4fzpkK7NBpNfxsa8yf6RsFVWnES7Mo_2mUwSNKuJcFt3hK3NXxAHOqNwfc9WLzXQmhRH_7inRIzkARc9lSAscET3HhrWzqOyn2dHtUMYwk_UQkRMeLhDW04YLVEjHiRob18sBCClZfd-zfaAn_2dbL89TKmKIJGzy6ryIjqqKD4Qzq6_FhyDk9NhavT-hWcBrQXBJaun4JiR2jWvat7xIqgPtR-cFw_R-ocfkcQHcJwZNAwSKWSPaNOD5vVbNoMq9XZO6j1rb0qIAqcQ0DFiUQY4IRXpsoX194FTXDVCcFhjPFLpdGCtozGt6iTeGiGZhJlcAHvp8D4NuUrYh-e-3mUSA68EpdzBc43rE--QmLoOSPEZTL3MVAp79kM25EPsR-ZZDGJz32c08q_cpmiy348ftn9B8Dao-ydbbLkxK5iia9ri78cNpt1Gex4W9oHOfMuukoeDYz-eAVCyACqwtGaR9e_kkNjZy6_tDfXZNfMGyS4oEEZwP7GXcWEG9sZWRsd-MUBj7jdmU4kIa_q2F2WTjq9DWTUI./download [following]\n",
      "--2019-05-07 07:10:37--  https://public.boxcloud.com/d/1/b1!HZ5bYWza3MNlCs6r9_ARWr3GJfJGI8xKjyCB2J3BWAmbJJay34ceYFPGllBZkb5TGe8hY2siZx84srZIKJmoVXEtNKFcNxDxG1DKtUmjohbv9N8X33wX319AEHsUmj03nmxjrrUx4DDb-afxRBYA5co0Re_ScF6nZ35rtI2isiAEsAU6NbBZgR8dODi3cZBQMRvzuscL81rrml6jk2FF1fgg80b7PqPUtxOCE_5r88OXRfkocuWV6IHnsbmbVwFcLLIJ-_y0YiazwK7AcuNtA_vpBXYWEd_RambeDy5G7Q76DsCD_4jdWX9AwOwQaZumvufe8gViiKSqKtFB6nPtO4sxgEnTG1-rRdGXx7AJdYPNxv9C0YDjyV89u7tjx56nq5HNk2tDQ7-V41HpbFSb3OMSbohpg9Y3Ghf80ZaDZe_7ZMZcq4RamOdi7XeUcuwiEzCT1xUmR4LhZg92902WS991X9CocXZDksb-zl7ScAF78x6G5Od0ekF-EE7wBSybvE-hFwafXw_qeJLu3bwy0y_3ScduuSSHNz5sO2ZL9GCea6vpBfPgRUB95E8tWyOuWT69jsHniWpArKMCOpQ8MjYuEL9V5-MvXKssCRBMeWcZgokBoyriV_zBwRSxE9O4p1OcjRUZ2OU8csXHcZOHcdW8ZjZtaLHVrsmnGDRUsmbO1divOFG3rsi4ajeKUzNJbt1LErAQqJCdgIazKKMJHOy-iLPsH8r1Tp0LWL3y-1oFmU0RuJCnsTNp9fnuj4vG7eVBW55BkFBfAgR7IVExjHZaIuUoRu_-O7XcfT9wUN7BF3YSC8K1URSMQaZGYp3gArJAkw_LCriMxsmSNUk4XkiqMTb4fzpkK7NBpNfxsa8yf6RsFVWnES7Mo_2mUwSNKuJcFt3hK3NXxAHOqNwfc9WLzXQmhRH_7inRIzkARc9lSAscET3HhrWzqOyn2dHtUMYwk_UQkRMeLhDW04YLVEjHiRob18sBCClZfd-zfaAn_2dbL89TKmKIJGzy6ryIjqqKD4Qzq6_FhyDk9NhavT-hWcBrQXBJaun4JiR2jWvat7xIqgPtR-cFw_R-ocfkcQHcJwZNAwSKWSPaNOD5vVbNoMq9XZO6j1rb0qIAqcQ0DFiUQY4IRXpsoX194FTXDVCcFhjPFLpdGCtozGt6iTeGiGZhJlcAHvp8D4NuUrYh-e-3mUSA68EpdzBc43rE--QmLoOSPEZTL3MVAp79kM25EPsR-ZZDGJz32c08q_cpmiy348ftn9B8Dao-ydbbLkxK5iia9ri78cNpt1Gex4W9oHOfMuukoeDYz-eAVCyACqwtGaR9e_kkNjZy6_tDfXZNfMGyS4oEEZwP7GXcWEG9sZWRsd-MUBj7jdmU4kIa_q2F2WTjq9DWTUI./download\n",
      "Resolving public.boxcloud.com (public.boxcloud.com)... 107.152.26.200\n",
      "Connecting to public.boxcloud.com (public.boxcloud.com)|107.152.26.200|:443... connected.\n",
      "HTTP request sent, awaiting response... 200 OK\n",
      "Length: 2891 (2.8K) [text/csv]\n",
      "Saving to: ‘Geospatial_data.csv’\n",
      "\n",
      "Geospatial_data.csv 100%[===================>]   2.82K  --.-KB/s    in 0s      \n",
      "\n",
      "2019-05-07 07:10:38 (54.3 MB/s) - ‘Geospatial_data.csv’ saved [2891/2891]\n",
      "\n"
     ]
    },
    {
     "data": {
      "text/html": [
       "<div>\n",
       "<style scoped>\n",
       "    .dataframe tbody tr th:only-of-type {\n",
       "        vertical-align: middle;\n",
       "    }\n",
       "\n",
       "    .dataframe tbody tr th {\n",
       "        vertical-align: top;\n",
       "    }\n",
       "\n",
       "    .dataframe thead th {\n",
       "        text-align: right;\n",
       "    }\n",
       "</style>\n",
       "<table border=\"1\" class=\"dataframe\">\n",
       "  <thead>\n",
       "    <tr style=\"text-align: right;\">\n",
       "      <th></th>\n",
       "      <th>Postal Code</th>\n",
       "      <th>Latitude</th>\n",
       "      <th>Longitude</th>\n",
       "    </tr>\n",
       "  </thead>\n",
       "  <tbody>\n",
       "    <tr>\n",
       "      <th>0</th>\n",
       "      <td>M1B</td>\n",
       "      <td>43.806686</td>\n",
       "      <td>-79.194353</td>\n",
       "    </tr>\n",
       "    <tr>\n",
       "      <th>1</th>\n",
       "      <td>M1C</td>\n",
       "      <td>43.784535</td>\n",
       "      <td>-79.160497</td>\n",
       "    </tr>\n",
       "    <tr>\n",
       "      <th>2</th>\n",
       "      <td>M1E</td>\n",
       "      <td>43.763573</td>\n",
       "      <td>-79.188711</td>\n",
       "    </tr>\n",
       "    <tr>\n",
       "      <th>3</th>\n",
       "      <td>M1G</td>\n",
       "      <td>43.770992</td>\n",
       "      <td>-79.216917</td>\n",
       "    </tr>\n",
       "    <tr>\n",
       "      <th>4</th>\n",
       "      <td>M1H</td>\n",
       "      <td>43.773136</td>\n",
       "      <td>-79.239476</td>\n",
       "    </tr>\n",
       "  </tbody>\n",
       "</table>\n",
       "</div>"
      ],
      "text/plain": [
       "  Postal Code   Latitude  Longitude\n",
       "0         M1B  43.806686 -79.194353\n",
       "1         M1C  43.784535 -79.160497\n",
       "2         M1E  43.763573 -79.188711\n",
       "3         M1G  43.770992 -79.216917\n",
       "4         M1H  43.773136 -79.239476"
      ]
     },
     "execution_count": 4,
     "metadata": {},
     "output_type": "execute_result"
    }
   ],
   "source": [
    "!wget -O Geospatial_data.csv http://cocl.us/Geospatial_data\n",
    "coords = pd.read_csv(\"Geospatial_data.csv\", delimiter=\",\")\n",
    "coords.head()"
   ]
  },
  {
   "cell_type": "markdown",
   "metadata": {},
   "source": [
    "**Set postal code as index for both data frames**"
   ]
  },
  {
   "cell_type": "code",
   "execution_count": 5,
   "metadata": {},
   "outputs": [],
   "source": [
    "coords.set_index('Postal Code', inplace=True)\n",
    "toronto.set_index('PostalCode', inplace=True)"
   ]
  },
  {
   "cell_type": "markdown",
   "metadata": {},
   "source": [
    "**Add latitude and longitude column to original dataframe and reset the index**"
   ]
  },
  {
   "cell_type": "code",
   "execution_count": 6,
   "metadata": {},
   "outputs": [
    {
     "data": {
      "text/html": [
       "<div>\n",
       "<style scoped>\n",
       "    .dataframe tbody tr th:only-of-type {\n",
       "        vertical-align: middle;\n",
       "    }\n",
       "\n",
       "    .dataframe tbody tr th {\n",
       "        vertical-align: top;\n",
       "    }\n",
       "\n",
       "    .dataframe thead th {\n",
       "        text-align: right;\n",
       "    }\n",
       "</style>\n",
       "<table border=\"1\" class=\"dataframe\">\n",
       "  <thead>\n",
       "    <tr style=\"text-align: right;\">\n",
       "      <th></th>\n",
       "      <th>PostalCode</th>\n",
       "      <th>Borough</th>\n",
       "      <th>Neighborhood</th>\n",
       "      <th>Latitude</th>\n",
       "      <th>Longitude</th>\n",
       "    </tr>\n",
       "  </thead>\n",
       "  <tbody>\n",
       "    <tr>\n",
       "      <th>0</th>\n",
       "      <td>M1B</td>\n",
       "      <td>Scarborough</td>\n",
       "      <td>Rouge, Malvern</td>\n",
       "      <td>43.806686</td>\n",
       "      <td>-79.194353</td>\n",
       "    </tr>\n",
       "    <tr>\n",
       "      <th>1</th>\n",
       "      <td>M1C</td>\n",
       "      <td>Scarborough</td>\n",
       "      <td>Highland Creek, Rouge Hill, Port Union</td>\n",
       "      <td>43.784535</td>\n",
       "      <td>-79.160497</td>\n",
       "    </tr>\n",
       "    <tr>\n",
       "      <th>2</th>\n",
       "      <td>M1E</td>\n",
       "      <td>Scarborough</td>\n",
       "      <td>Guildwood, Morningside, West Hill</td>\n",
       "      <td>43.763573</td>\n",
       "      <td>-79.188711</td>\n",
       "    </tr>\n",
       "    <tr>\n",
       "      <th>3</th>\n",
       "      <td>M1G</td>\n",
       "      <td>Scarborough</td>\n",
       "      <td>Woburn</td>\n",
       "      <td>43.770992</td>\n",
       "      <td>-79.216917</td>\n",
       "    </tr>\n",
       "    <tr>\n",
       "      <th>4</th>\n",
       "      <td>M1H</td>\n",
       "      <td>Scarborough</td>\n",
       "      <td>Cedarbrae</td>\n",
       "      <td>43.773136</td>\n",
       "      <td>-79.239476</td>\n",
       "    </tr>\n",
       "  </tbody>\n",
       "</table>\n",
       "</div>"
      ],
      "text/plain": [
       "  PostalCode      Borough                            Neighborhood   Latitude  \\\n",
       "0        M1B  Scarborough                          Rouge, Malvern  43.806686   \n",
       "1        M1C  Scarborough  Highland Creek, Rouge Hill, Port Union  43.784535   \n",
       "2        M1E  Scarborough       Guildwood, Morningside, West Hill  43.763573   \n",
       "3        M1G  Scarborough                                  Woburn  43.770992   \n",
       "4        M1H  Scarborough                               Cedarbrae  43.773136   \n",
       "\n",
       "   Longitude  \n",
       "0 -79.194353  \n",
       "1 -79.160497  \n",
       "2 -79.188711  \n",
       "3 -79.216917  \n",
       "4 -79.239476  "
      ]
     },
     "execution_count": 6,
     "metadata": {},
     "output_type": "execute_result"
    }
   ],
   "source": [
    "toronto['Latitude'] = coords['Latitude']\n",
    "toronto['Longitude'] = coords['Longitude']\n",
    "toronto.reset_index(inplace=True)\n",
    "toronto.head()"
   ]
  }
 ],
 "metadata": {
  "kernelspec": {
   "display_name": "Python 3",
   "language": "python",
   "name": "python3"
  },
  "language_info": {
   "codemirror_mode": {
    "name": "ipython",
    "version": 3
   },
   "file_extension": ".py",
   "mimetype": "text/x-python",
   "name": "python",
   "nbconvert_exporter": "python",
   "pygments_lexer": "ipython3",
   "version": "3.7.3"
  },
  "widgets": {
   "state": {},
   "version": "1.1.2"
  }
 },
 "nbformat": 4,
 "nbformat_minor": 2
}
